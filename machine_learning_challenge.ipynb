{
  "nbformat": 4,
  "nbformat_minor": 0,
  "metadata": {
    "colab": {
      "name": "machine-learning-challenge.ipynb",
      "provenance": [],
      "collapsed_sections": [],
      "authorship_tag": "ABX9TyMT8tvhjdMpp9G6XQ0luflf",
      "include_colab_link": true
    },
    "kernelspec": {
      "name": "python3",
      "display_name": "Python 3"
    }
  },
  "cells": [
    {
      "cell_type": "markdown",
      "metadata": {
        "id": "view-in-github",
        "colab_type": "text"
      },
      "source": [
        "<a href=\"https://colab.research.google.com/github/glennmacapinlac/machine-learning-challenge/blob/main/machine_learning_challenge.ipynb\" target=\"_parent\"><img src=\"https://colab.research.google.com/assets/colab-badge.svg\" alt=\"Open In Colab\"/></a>"
      ]
    },
    {
      "cell_type": "code",
      "metadata": {
        "colab": {
          "base_uri": "https://localhost:8080/"
        },
        "id": "Zk5I3HK7Eysr",
        "outputId": "f25ea06f-21a5-4ab2-fb24-87960548b11e"
      },
      "source": [
        "# Update sklearn to prevent version mismatches\r\n",
        "!pip install sklearn --upgrade"
      ],
      "execution_count": 1,
      "outputs": [
        {
          "output_type": "stream",
          "text": [
            "Requirement already up-to-date: sklearn in /usr/local/lib/python3.7/dist-packages (0.0)\n",
            "Requirement already satisfied, skipping upgrade: scikit-learn in /usr/local/lib/python3.7/dist-packages (from sklearn) (0.22.2.post1)\n",
            "Requirement already satisfied, skipping upgrade: scipy>=0.17.0 in /usr/local/lib/python3.7/dist-packages (from scikit-learn->sklearn) (1.4.1)\n",
            "Requirement already satisfied, skipping upgrade: joblib>=0.11 in /usr/local/lib/python3.7/dist-packages (from scikit-learn->sklearn) (1.0.1)\n",
            "Requirement already satisfied, skipping upgrade: numpy>=1.11.0 in /usr/local/lib/python3.7/dist-packages (from scikit-learn->sklearn) (1.19.5)\n"
          ],
          "name": "stdout"
        }
      ]
    },
    {
      "cell_type": "code",
      "metadata": {
        "colab": {
          "base_uri": "https://localhost:8080/"
        },
        "id": "VQ8ONbSuE9Xb",
        "outputId": "c128d922-0784-41a1-8304-895260860f9a"
      },
      "source": [
        "# install joblib. This will be used to save your model. \r\n",
        "# Restart your kernel after installing \r\n",
        "!pip install joblib"
      ],
      "execution_count": 2,
      "outputs": [
        {
          "output_type": "stream",
          "text": [
            "Requirement already satisfied: joblib in /usr/local/lib/python3.7/dist-packages (1.0.1)\n"
          ],
          "name": "stdout"
        }
      ]
    },
    {
      "cell_type": "code",
      "metadata": {
        "id": "ixerU5hwFBvC"
      },
      "source": [
        "import pandas as pd"
      ],
      "execution_count": 3,
      "outputs": []
    },
    {
      "cell_type": "code",
      "metadata": {
        "colab": {
          "base_uri": "https://localhost:8080/",
          "height": 215
        },
        "id": "bRhUVskFFF6h",
        "outputId": "f752c13b-49b2-4190-b293-a2080c8ba9b4"
      },
      "source": [
        "df = pd.read_csv(\"exoplanet_data.csv\")\r\n",
        "# Drop the null columns where all values are null\r\n",
        "df = df.dropna(axis='columns', how='all')\r\n",
        "# Drop the null rows\r\n",
        "df = df.dropna()\r\n",
        "df.head()"
      ],
      "execution_count": 4,
      "outputs": [
        {
          "output_type": "execute_result",
          "data": {
            "text/html": [
              "<div>\n",
              "<style scoped>\n",
              "    .dataframe tbody tr th:only-of-type {\n",
              "        vertical-align: middle;\n",
              "    }\n",
              "\n",
              "    .dataframe tbody tr th {\n",
              "        vertical-align: top;\n",
              "    }\n",
              "\n",
              "    .dataframe thead th {\n",
              "        text-align: right;\n",
              "    }\n",
              "</style>\n",
              "<table border=\"1\" class=\"dataframe\">\n",
              "  <thead>\n",
              "    <tr style=\"text-align: right;\">\n",
              "      <th></th>\n",
              "      <th>koi_disposition</th>\n",
              "      <th>koi_fpflag_nt</th>\n",
              "      <th>koi_fpflag_ss</th>\n",
              "      <th>koi_fpflag_co</th>\n",
              "      <th>koi_fpflag_ec</th>\n",
              "      <th>koi_period</th>\n",
              "      <th>koi_period_err1</th>\n",
              "      <th>koi_period_err2</th>\n",
              "      <th>koi_time0bk</th>\n",
              "      <th>koi_time0bk_err1</th>\n",
              "      <th>koi_time0bk_err2</th>\n",
              "      <th>koi_impact</th>\n",
              "      <th>koi_impact_err1</th>\n",
              "      <th>koi_impact_err2</th>\n",
              "      <th>koi_duration</th>\n",
              "      <th>koi_duration_err1</th>\n",
              "      <th>koi_duration_err2</th>\n",
              "      <th>koi_depth</th>\n",
              "      <th>koi_depth_err1</th>\n",
              "      <th>koi_depth_err2</th>\n",
              "      <th>koi_prad</th>\n",
              "      <th>koi_prad_err1</th>\n",
              "      <th>koi_prad_err2</th>\n",
              "      <th>koi_teq</th>\n",
              "      <th>koi_insol</th>\n",
              "      <th>koi_insol_err1</th>\n",
              "      <th>koi_insol_err2</th>\n",
              "      <th>koi_model_snr</th>\n",
              "      <th>koi_tce_plnt_num</th>\n",
              "      <th>koi_steff</th>\n",
              "      <th>koi_steff_err1</th>\n",
              "      <th>koi_steff_err2</th>\n",
              "      <th>koi_slogg</th>\n",
              "      <th>koi_slogg_err1</th>\n",
              "      <th>koi_slogg_err2</th>\n",
              "      <th>koi_srad</th>\n",
              "      <th>koi_srad_err1</th>\n",
              "      <th>koi_srad_err2</th>\n",
              "      <th>ra</th>\n",
              "      <th>dec</th>\n",
              "      <th>koi_kepmag</th>\n",
              "    </tr>\n",
              "  </thead>\n",
              "  <tbody>\n",
              "    <tr>\n",
              "      <th>0</th>\n",
              "      <td>CONFIRMED</td>\n",
              "      <td>0</td>\n",
              "      <td>0</td>\n",
              "      <td>0</td>\n",
              "      <td>0</td>\n",
              "      <td>54.418383</td>\n",
              "      <td>2.479000e-04</td>\n",
              "      <td>-2.479000e-04</td>\n",
              "      <td>162.513840</td>\n",
              "      <td>0.003520</td>\n",
              "      <td>-0.003520</td>\n",
              "      <td>0.586</td>\n",
              "      <td>0.059</td>\n",
              "      <td>-0.443</td>\n",
              "      <td>4.50700</td>\n",
              "      <td>0.11600</td>\n",
              "      <td>-0.11600</td>\n",
              "      <td>874.8</td>\n",
              "      <td>35.5</td>\n",
              "      <td>-35.5</td>\n",
              "      <td>2.83</td>\n",
              "      <td>0.32</td>\n",
              "      <td>-0.19</td>\n",
              "      <td>443</td>\n",
              "      <td>9.11</td>\n",
              "      <td>2.87</td>\n",
              "      <td>-1.62</td>\n",
              "      <td>25.8</td>\n",
              "      <td>2</td>\n",
              "      <td>5455</td>\n",
              "      <td>81</td>\n",
              "      <td>-81</td>\n",
              "      <td>4.467</td>\n",
              "      <td>0.064</td>\n",
              "      <td>-0.096</td>\n",
              "      <td>0.927</td>\n",
              "      <td>0.105</td>\n",
              "      <td>-0.061</td>\n",
              "      <td>291.93423</td>\n",
              "      <td>48.141651</td>\n",
              "      <td>15.347</td>\n",
              "    </tr>\n",
              "    <tr>\n",
              "      <th>1</th>\n",
              "      <td>FALSE POSITIVE</td>\n",
              "      <td>0</td>\n",
              "      <td>1</td>\n",
              "      <td>0</td>\n",
              "      <td>0</td>\n",
              "      <td>19.899140</td>\n",
              "      <td>1.490000e-05</td>\n",
              "      <td>-1.490000e-05</td>\n",
              "      <td>175.850252</td>\n",
              "      <td>0.000581</td>\n",
              "      <td>-0.000581</td>\n",
              "      <td>0.969</td>\n",
              "      <td>5.126</td>\n",
              "      <td>-0.077</td>\n",
              "      <td>1.78220</td>\n",
              "      <td>0.03410</td>\n",
              "      <td>-0.03410</td>\n",
              "      <td>10829.0</td>\n",
              "      <td>171.0</td>\n",
              "      <td>-171.0</td>\n",
              "      <td>14.60</td>\n",
              "      <td>3.92</td>\n",
              "      <td>-1.31</td>\n",
              "      <td>638</td>\n",
              "      <td>39.30</td>\n",
              "      <td>31.04</td>\n",
              "      <td>-10.49</td>\n",
              "      <td>76.3</td>\n",
              "      <td>1</td>\n",
              "      <td>5853</td>\n",
              "      <td>158</td>\n",
              "      <td>-176</td>\n",
              "      <td>4.544</td>\n",
              "      <td>0.044</td>\n",
              "      <td>-0.176</td>\n",
              "      <td>0.868</td>\n",
              "      <td>0.233</td>\n",
              "      <td>-0.078</td>\n",
              "      <td>297.00482</td>\n",
              "      <td>48.134129</td>\n",
              "      <td>15.436</td>\n",
              "    </tr>\n",
              "    <tr>\n",
              "      <th>2</th>\n",
              "      <td>FALSE POSITIVE</td>\n",
              "      <td>0</td>\n",
              "      <td>1</td>\n",
              "      <td>0</td>\n",
              "      <td>0</td>\n",
              "      <td>1.736952</td>\n",
              "      <td>2.630000e-07</td>\n",
              "      <td>-2.630000e-07</td>\n",
              "      <td>170.307565</td>\n",
              "      <td>0.000115</td>\n",
              "      <td>-0.000115</td>\n",
              "      <td>1.276</td>\n",
              "      <td>0.115</td>\n",
              "      <td>-0.092</td>\n",
              "      <td>2.40641</td>\n",
              "      <td>0.00537</td>\n",
              "      <td>-0.00537</td>\n",
              "      <td>8079.2</td>\n",
              "      <td>12.8</td>\n",
              "      <td>-12.8</td>\n",
              "      <td>33.46</td>\n",
              "      <td>8.50</td>\n",
              "      <td>-2.83</td>\n",
              "      <td>1395</td>\n",
              "      <td>891.96</td>\n",
              "      <td>668.95</td>\n",
              "      <td>-230.35</td>\n",
              "      <td>505.6</td>\n",
              "      <td>1</td>\n",
              "      <td>5805</td>\n",
              "      <td>157</td>\n",
              "      <td>-174</td>\n",
              "      <td>4.564</td>\n",
              "      <td>0.053</td>\n",
              "      <td>-0.168</td>\n",
              "      <td>0.791</td>\n",
              "      <td>0.201</td>\n",
              "      <td>-0.067</td>\n",
              "      <td>285.53461</td>\n",
              "      <td>48.285210</td>\n",
              "      <td>15.597</td>\n",
              "    </tr>\n",
              "    <tr>\n",
              "      <th>3</th>\n",
              "      <td>CONFIRMED</td>\n",
              "      <td>0</td>\n",
              "      <td>0</td>\n",
              "      <td>0</td>\n",
              "      <td>0</td>\n",
              "      <td>2.525592</td>\n",
              "      <td>3.760000e-06</td>\n",
              "      <td>-3.760000e-06</td>\n",
              "      <td>171.595550</td>\n",
              "      <td>0.001130</td>\n",
              "      <td>-0.001130</td>\n",
              "      <td>0.701</td>\n",
              "      <td>0.235</td>\n",
              "      <td>-0.478</td>\n",
              "      <td>1.65450</td>\n",
              "      <td>0.04200</td>\n",
              "      <td>-0.04200</td>\n",
              "      <td>603.3</td>\n",
              "      <td>16.9</td>\n",
              "      <td>-16.9</td>\n",
              "      <td>2.75</td>\n",
              "      <td>0.88</td>\n",
              "      <td>-0.35</td>\n",
              "      <td>1406</td>\n",
              "      <td>926.16</td>\n",
              "      <td>874.33</td>\n",
              "      <td>-314.24</td>\n",
              "      <td>40.9</td>\n",
              "      <td>1</td>\n",
              "      <td>6031</td>\n",
              "      <td>169</td>\n",
              "      <td>-211</td>\n",
              "      <td>4.438</td>\n",
              "      <td>0.070</td>\n",
              "      <td>-0.210</td>\n",
              "      <td>1.046</td>\n",
              "      <td>0.334</td>\n",
              "      <td>-0.133</td>\n",
              "      <td>288.75488</td>\n",
              "      <td>48.226200</td>\n",
              "      <td>15.509</td>\n",
              "    </tr>\n",
              "    <tr>\n",
              "      <th>4</th>\n",
              "      <td>CONFIRMED</td>\n",
              "      <td>0</td>\n",
              "      <td>0</td>\n",
              "      <td>0</td>\n",
              "      <td>0</td>\n",
              "      <td>4.134435</td>\n",
              "      <td>1.050000e-05</td>\n",
              "      <td>-1.050000e-05</td>\n",
              "      <td>172.979370</td>\n",
              "      <td>0.001900</td>\n",
              "      <td>-0.001900</td>\n",
              "      <td>0.762</td>\n",
              "      <td>0.139</td>\n",
              "      <td>-0.532</td>\n",
              "      <td>3.14020</td>\n",
              "      <td>0.06730</td>\n",
              "      <td>-0.06730</td>\n",
              "      <td>686.0</td>\n",
              "      <td>18.7</td>\n",
              "      <td>-18.7</td>\n",
              "      <td>2.77</td>\n",
              "      <td>0.90</td>\n",
              "      <td>-0.30</td>\n",
              "      <td>1160</td>\n",
              "      <td>427.65</td>\n",
              "      <td>420.33</td>\n",
              "      <td>-136.70</td>\n",
              "      <td>40.2</td>\n",
              "      <td>2</td>\n",
              "      <td>6046</td>\n",
              "      <td>189</td>\n",
              "      <td>-232</td>\n",
              "      <td>4.486</td>\n",
              "      <td>0.054</td>\n",
              "      <td>-0.229</td>\n",
              "      <td>0.972</td>\n",
              "      <td>0.315</td>\n",
              "      <td>-0.105</td>\n",
              "      <td>296.28613</td>\n",
              "      <td>48.224670</td>\n",
              "      <td>15.714</td>\n",
              "    </tr>\n",
              "  </tbody>\n",
              "</table>\n",
              "</div>"
            ],
            "text/plain": [
              "  koi_disposition  koi_fpflag_nt  ...        dec  koi_kepmag\n",
              "0       CONFIRMED              0  ...  48.141651      15.347\n",
              "1  FALSE POSITIVE              0  ...  48.134129      15.436\n",
              "2  FALSE POSITIVE              0  ...  48.285210      15.597\n",
              "3       CONFIRMED              0  ...  48.226200      15.509\n",
              "4       CONFIRMED              0  ...  48.224670      15.714\n",
              "\n",
              "[5 rows x 41 columns]"
            ]
          },
          "metadata": {
            "tags": []
          },
          "execution_count": 4
        }
      ]
    },
    {
      "cell_type": "code",
      "metadata": {
        "id": "qUPi_mQ8FQpp"
      },
      "source": [
        "# Set features. This will also be used as your x values.\r\n",
        "#selected_features = df[['names', 'of', 'selected', 'features', 'here']]"
      ],
      "execution_count": 6,
      "outputs": []
    },
    {
      "cell_type": "code",
      "metadata": {
        "colab": {
          "base_uri": "https://localhost:8080/"
        },
        "id": "gxd_8qGaLp_H",
        "outputId": "cba4f3ae-6bf0-40d4-a45b-d25c07fc0510"
      },
      "source": [
        "X = df.drop(\"koi_disposition\", axis=1)\r\n",
        "y = df[\"koi_disposition\"]\r\n",
        "print(X.shape, y.shape)"
      ],
      "execution_count": 7,
      "outputs": [
        {
          "output_type": "stream",
          "text": [
            "(6991, 40) (6991,)\n"
          ],
          "name": "stdout"
        }
      ]
    },
    {
      "cell_type": "code",
      "metadata": {
        "id": "nsKL5q4JYWfc"
      },
      "source": [
        "from sklearn.model_selection import train_test_split\r\n",
        "from sklearn.preprocessing import LabelEncoder, MinMaxScaler\r\n",
        "from tensorflow.keras.utils import to_categorical"
      ],
      "execution_count": 8,
      "outputs": []
    },
    {
      "cell_type": "code",
      "metadata": {
        "id": "YgKKsW-UYYB5"
      },
      "source": [
        "X_train, X_test, y_train, y_test = train_test_split(\r\n",
        "    X, y, random_state=1, stratify=y)"
      ],
      "execution_count": 10,
      "outputs": []
    },
    {
      "cell_type": "code",
      "metadata": {
        "colab": {
          "base_uri": "https://localhost:8080/",
          "height": 215
        },
        "id": "-wzwjfisYhhw",
        "outputId": "1163b596-b75a-4940-d002-6188ec2c0722"
      },
      "source": [
        "X_train.head()"
      ],
      "execution_count": 11,
      "outputs": [
        {
          "output_type": "execute_result",
          "data": {
            "text/html": [
              "<div>\n",
              "<style scoped>\n",
              "    .dataframe tbody tr th:only-of-type {\n",
              "        vertical-align: middle;\n",
              "    }\n",
              "\n",
              "    .dataframe tbody tr th {\n",
              "        vertical-align: top;\n",
              "    }\n",
              "\n",
              "    .dataframe thead th {\n",
              "        text-align: right;\n",
              "    }\n",
              "</style>\n",
              "<table border=\"1\" class=\"dataframe\">\n",
              "  <thead>\n",
              "    <tr style=\"text-align: right;\">\n",
              "      <th></th>\n",
              "      <th>koi_fpflag_nt</th>\n",
              "      <th>koi_fpflag_ss</th>\n",
              "      <th>koi_fpflag_co</th>\n",
              "      <th>koi_fpflag_ec</th>\n",
              "      <th>koi_period</th>\n",
              "      <th>koi_period_err1</th>\n",
              "      <th>koi_period_err2</th>\n",
              "      <th>koi_time0bk</th>\n",
              "      <th>koi_time0bk_err1</th>\n",
              "      <th>koi_time0bk_err2</th>\n",
              "      <th>koi_impact</th>\n",
              "      <th>koi_impact_err1</th>\n",
              "      <th>koi_impact_err2</th>\n",
              "      <th>koi_duration</th>\n",
              "      <th>koi_duration_err1</th>\n",
              "      <th>koi_duration_err2</th>\n",
              "      <th>koi_depth</th>\n",
              "      <th>koi_depth_err1</th>\n",
              "      <th>koi_depth_err2</th>\n",
              "      <th>koi_prad</th>\n",
              "      <th>koi_prad_err1</th>\n",
              "      <th>koi_prad_err2</th>\n",
              "      <th>koi_teq</th>\n",
              "      <th>koi_insol</th>\n",
              "      <th>koi_insol_err1</th>\n",
              "      <th>koi_insol_err2</th>\n",
              "      <th>koi_model_snr</th>\n",
              "      <th>koi_tce_plnt_num</th>\n",
              "      <th>koi_steff</th>\n",
              "      <th>koi_steff_err1</th>\n",
              "      <th>koi_steff_err2</th>\n",
              "      <th>koi_slogg</th>\n",
              "      <th>koi_slogg_err1</th>\n",
              "      <th>koi_slogg_err2</th>\n",
              "      <th>koi_srad</th>\n",
              "      <th>koi_srad_err1</th>\n",
              "      <th>koi_srad_err2</th>\n",
              "      <th>ra</th>\n",
              "      <th>dec</th>\n",
              "      <th>koi_kepmag</th>\n",
              "    </tr>\n",
              "  </thead>\n",
              "  <tbody>\n",
              "    <tr>\n",
              "      <th>4002</th>\n",
              "      <td>0</td>\n",
              "      <td>0</td>\n",
              "      <td>1</td>\n",
              "      <td>0</td>\n",
              "      <td>99.673478</td>\n",
              "      <td>3.463000e-04</td>\n",
              "      <td>-3.463000e-04</td>\n",
              "      <td>219.334830</td>\n",
              "      <td>0.002300</td>\n",
              "      <td>-0.002300</td>\n",
              "      <td>11.6846</td>\n",
              "      <td>1.516</td>\n",
              "      <td>-10.450</td>\n",
              "      <td>0.9680</td>\n",
              "      <td>0.1790</td>\n",
              "      <td>-0.1790</td>\n",
              "      <td>2496.0</td>\n",
              "      <td>264.0</td>\n",
              "      <td>-264.0</td>\n",
              "      <td>576.14</td>\n",
              "      <td>30.44</td>\n",
              "      <td>-31.62</td>\n",
              "      <td>262</td>\n",
              "      <td>1.11</td>\n",
              "      <td>0.27</td>\n",
              "      <td>-0.23</td>\n",
              "      <td>12.6</td>\n",
              "      <td>2</td>\n",
              "      <td>4932</td>\n",
              "      <td>145</td>\n",
              "      <td>-148</td>\n",
              "      <td>4.777</td>\n",
              "      <td>0.040</td>\n",
              "      <td>-0.027</td>\n",
              "      <td>0.492</td>\n",
              "      <td>0.026</td>\n",
              "      <td>-0.027</td>\n",
              "      <td>293.05801</td>\n",
              "      <td>45.248821</td>\n",
              "      <td>15.801</td>\n",
              "    </tr>\n",
              "    <tr>\n",
              "      <th>4246</th>\n",
              "      <td>0</td>\n",
              "      <td>1</td>\n",
              "      <td>0</td>\n",
              "      <td>0</td>\n",
              "      <td>0.592244</td>\n",
              "      <td>9.000000e-08</td>\n",
              "      <td>-9.000000e-08</td>\n",
              "      <td>131.654831</td>\n",
              "      <td>0.000124</td>\n",
              "      <td>-0.000124</td>\n",
              "      <td>0.9860</td>\n",
              "      <td>0.048</td>\n",
              "      <td>-0.054</td>\n",
              "      <td>1.3860</td>\n",
              "      <td>0.0156</td>\n",
              "      <td>-0.0156</td>\n",
              "      <td>3992.4</td>\n",
              "      <td>18.2</td>\n",
              "      <td>-18.2</td>\n",
              "      <td>6.77</td>\n",
              "      <td>0.51</td>\n",
              "      <td>-0.52</td>\n",
              "      <td>1551</td>\n",
              "      <td>1361.22</td>\n",
              "      <td>410.79</td>\n",
              "      <td>-331.29</td>\n",
              "      <td>303.8</td>\n",
              "      <td>1</td>\n",
              "      <td>4920</td>\n",
              "      <td>146</td>\n",
              "      <td>-146</td>\n",
              "      <td>4.664</td>\n",
              "      <td>0.056</td>\n",
              "      <td>-0.032</td>\n",
              "      <td>0.591</td>\n",
              "      <td>0.045</td>\n",
              "      <td>-0.045</td>\n",
              "      <td>290.28094</td>\n",
              "      <td>45.464260</td>\n",
              "      <td>15.653</td>\n",
              "    </tr>\n",
              "    <tr>\n",
              "      <th>548</th>\n",
              "      <td>0</td>\n",
              "      <td>1</td>\n",
              "      <td>1</td>\n",
              "      <td>0</td>\n",
              "      <td>9.991625</td>\n",
              "      <td>5.360000e-06</td>\n",
              "      <td>-5.360000e-06</td>\n",
              "      <td>137.447816</td>\n",
              "      <td>0.000445</td>\n",
              "      <td>-0.000445</td>\n",
              "      <td>1.2560</td>\n",
              "      <td>0.258</td>\n",
              "      <td>-0.119</td>\n",
              "      <td>3.8552</td>\n",
              "      <td>0.0235</td>\n",
              "      <td>-0.0235</td>\n",
              "      <td>3450.5</td>\n",
              "      <td>19.2</td>\n",
              "      <td>-19.2</td>\n",
              "      <td>38.93</td>\n",
              "      <td>10.98</td>\n",
              "      <td>-7.31</td>\n",
              "      <td>907</td>\n",
              "      <td>160.14</td>\n",
              "      <td>132.50</td>\n",
              "      <td>-66.64</td>\n",
              "      <td>220.3</td>\n",
              "      <td>1</td>\n",
              "      <td>5874</td>\n",
              "      <td>158</td>\n",
              "      <td>-176</td>\n",
              "      <td>4.338</td>\n",
              "      <td>0.153</td>\n",
              "      <td>-0.187</td>\n",
              "      <td>1.096</td>\n",
              "      <td>0.309</td>\n",
              "      <td>-0.206</td>\n",
              "      <td>301.04239</td>\n",
              "      <td>45.022888</td>\n",
              "      <td>14.039</td>\n",
              "    </tr>\n",
              "    <tr>\n",
              "      <th>3953</th>\n",
              "      <td>0</td>\n",
              "      <td>1</td>\n",
              "      <td>0</td>\n",
              "      <td>0</td>\n",
              "      <td>178.412990</td>\n",
              "      <td>3.100000e-05</td>\n",
              "      <td>-3.100000e-05</td>\n",
              "      <td>218.225235</td>\n",
              "      <td>0.000127</td>\n",
              "      <td>-0.000127</td>\n",
              "      <td>0.9360</td>\n",
              "      <td>0.093</td>\n",
              "      <td>-0.046</td>\n",
              "      <td>2.9298</td>\n",
              "      <td>0.0124</td>\n",
              "      <td>-0.0124</td>\n",
              "      <td>37510.0</td>\n",
              "      <td>100.0</td>\n",
              "      <td>-100.0</td>\n",
              "      <td>33.24</td>\n",
              "      <td>5.85</td>\n",
              "      <td>-3.59</td>\n",
              "      <td>361</td>\n",
              "      <td>4.00</td>\n",
              "      <td>2.00</td>\n",
              "      <td>-1.09</td>\n",
              "      <td>535.1</td>\n",
              "      <td>1</td>\n",
              "      <td>6078</td>\n",
              "      <td>122</td>\n",
              "      <td>-134</td>\n",
              "      <td>4.346</td>\n",
              "      <td>0.084</td>\n",
              "      <td>-0.126</td>\n",
              "      <td>1.148</td>\n",
              "      <td>0.202</td>\n",
              "      <td>-0.124</td>\n",
              "      <td>288.32785</td>\n",
              "      <td>38.627621</td>\n",
              "      <td>13.944</td>\n",
              "    </tr>\n",
              "    <tr>\n",
              "      <th>2362</th>\n",
              "      <td>0</td>\n",
              "      <td>0</td>\n",
              "      <td>0</td>\n",
              "      <td>0</td>\n",
              "      <td>45.294223</td>\n",
              "      <td>5.600000e-05</td>\n",
              "      <td>-5.600000e-05</td>\n",
              "      <td>138.678725</td>\n",
              "      <td>0.000987</td>\n",
              "      <td>-0.000987</td>\n",
              "      <td>0.0250</td>\n",
              "      <td>0.333</td>\n",
              "      <td>-0.025</td>\n",
              "      <td>6.8300</td>\n",
              "      <td>0.0343</td>\n",
              "      <td>-0.0343</td>\n",
              "      <td>477.1</td>\n",
              "      <td>3.7</td>\n",
              "      <td>-3.7</td>\n",
              "      <td>2.26</td>\n",
              "      <td>0.12</td>\n",
              "      <td>-0.09</td>\n",
              "      <td>524</td>\n",
              "      <td>17.75</td>\n",
              "      <td>3.21</td>\n",
              "      <td>-2.17</td>\n",
              "      <td>134.8</td>\n",
              "      <td>1</td>\n",
              "      <td>5676</td>\n",
              "      <td>85</td>\n",
              "      <td>-68</td>\n",
              "      <td>4.347</td>\n",
              "      <td>0.030</td>\n",
              "      <td>-0.030</td>\n",
              "      <td>1.044</td>\n",
              "      <td>0.057</td>\n",
              "      <td>-0.042</td>\n",
              "      <td>285.67938</td>\n",
              "      <td>50.241299</td>\n",
              "      <td>10.961</td>\n",
              "    </tr>\n",
              "  </tbody>\n",
              "</table>\n",
              "</div>"
            ],
            "text/plain": [
              "      koi_fpflag_nt  koi_fpflag_ss  ...        dec  koi_kepmag\n",
              "4002              0              0  ...  45.248821      15.801\n",
              "4246              0              1  ...  45.464260      15.653\n",
              "548               0              1  ...  45.022888      14.039\n",
              "3953              0              1  ...  38.627621      13.944\n",
              "2362              0              0  ...  50.241299      10.961\n",
              "\n",
              "[5 rows x 40 columns]"
            ]
          },
          "metadata": {
            "tags": []
          },
          "execution_count": 11
        }
      ]
    },
    {
      "cell_type": "code",
      "metadata": {
        "id": "ZX7UU98LYolB"
      },
      "source": [
        "# Scale your data\r\n",
        "X_scaler = MinMaxScaler().fit(X_train)\r\n",
        "X_train_scaled = X_scaler.transform(X_train)\r\n",
        "X_test_scaled = X_scaler.transform(X_test)"
      ],
      "execution_count": 12,
      "outputs": []
    },
    {
      "cell_type": "code",
      "metadata": {
        "colab": {
          "base_uri": "https://localhost:8080/"
        },
        "id": "ScrK9JUFYz7w",
        "outputId": "718cb15d-3424-41e9-894e-a2afd75f36d7"
      },
      "source": [
        "# Create the SVC Model\r\n",
        "from sklearn.svm import SVC \r\n",
        "model2 = SVC(kernel='linear')\r\n",
        "model2"
      ],
      "execution_count": 16,
      "outputs": [
        {
          "output_type": "execute_result",
          "data": {
            "text/plain": [
              "SVC(C=1.0, break_ties=False, cache_size=200, class_weight=None, coef0=0.0,\n",
              "    decision_function_shape='ovr', degree=3, gamma='scale', kernel='linear',\n",
              "    max_iter=-1, probability=False, random_state=None, shrinking=True,\n",
              "    tol=0.001, verbose=False)"
            ]
          },
          "metadata": {
            "tags": []
          },
          "execution_count": 16
        }
      ]
    },
    {
      "cell_type": "code",
      "metadata": {
        "colab": {
          "base_uri": "https://localhost:8080/"
        },
        "id": "BzpNDsn2Y8mZ",
        "outputId": "0f6c5f62-e168-4cfe-dfc9-cc0162956e2f"
      },
      "source": [
        "model2.fit(X_train_scaled, y_train)"
      ],
      "execution_count": 17,
      "outputs": [
        {
          "output_type": "execute_result",
          "data": {
            "text/plain": [
              "SVC(C=1.0, break_ties=False, cache_size=200, class_weight=None, coef0=0.0,\n",
              "    decision_function_shape='ovr', degree=3, gamma='scale', kernel='linear',\n",
              "    max_iter=-1, probability=False, random_state=None, shrinking=True,\n",
              "    tol=0.001, verbose=False)"
            ]
          },
          "metadata": {
            "tags": []
          },
          "execution_count": 17
        }
      ]
    },
    {
      "cell_type": "code",
      "metadata": {
        "colab": {
          "base_uri": "https://localhost:8080/"
        },
        "id": "VazRyr3rZBdi",
        "outputId": "fff029a8-3bad-4c4f-94af-97713d531319"
      },
      "source": [
        "print(f\"Training Data Score: {model2.score(X_train_scaled, y_train)}\")\r\n",
        "print(f\"Testing Data Score: {model2.score(X_test_scaled, y_test)}\") "
      ],
      "execution_count": 18,
      "outputs": [
        {
          "output_type": "stream",
          "text": [
            "Training Data Score: 0.8439824527942018\n",
            "Testing Data Score: 0.8415331807780321\n"
          ],
          "name": "stdout"
        }
      ]
    },
    {
      "cell_type": "code",
      "metadata": {
        "id": "n5FbX9sMZaGi"
      },
      "source": [
        "# Create the GridSearch estimator along with a parameter object containing the values to adjust\r\n",
        "from sklearn.model_selection import GridSearchCV\r\n",
        "param_grid = {'C': [1, 5, 10],\r\n",
        "              'gamma': [0.0001, 0.0005, 0.001]}"
      ],
      "execution_count": 19,
      "outputs": []
    },
    {
      "cell_type": "code",
      "metadata": {
        "id": "3T0iX4tVZcvK"
      },
      "source": [
        "\r\n",
        "# Create the GridSearchCV model\r\n",
        "grid2 = GridSearchCV(model, param_grid, verbose=3)"
      ],
      "execution_count": 23,
      "outputs": []
    },
    {
      "cell_type": "code",
      "metadata": {
        "colab": {
          "base_uri": "https://localhost:8080/"
        },
        "id": "0KKXhVKnZgvH",
        "outputId": "750d163e-d58f-499a-878a-aac6d0ba101b"
      },
      "source": [
        "# Train the model with GridSearch\r\n",
        "grid2.fit(X_train_scaled, y_train)"
      ],
      "execution_count": 24,
      "outputs": [
        {
          "output_type": "stream",
          "text": [
            "Fitting 5 folds for each of 9 candidates, totalling 45 fits\n",
            "[CV] C=1, gamma=0.0001 ...............................................\n"
          ],
          "name": "stdout"
        },
        {
          "output_type": "stream",
          "text": [
            "[Parallel(n_jobs=1)]: Using backend SequentialBackend with 1 concurrent workers.\n"
          ],
          "name": "stderr"
        },
        {
          "output_type": "stream",
          "text": [
            "[CV] ................... C=1, gamma=0.0001, score=0.856, total=   0.4s\n",
            "[CV] C=1, gamma=0.0001 ...............................................\n"
          ],
          "name": "stdout"
        },
        {
          "output_type": "stream",
          "text": [
            "[Parallel(n_jobs=1)]: Done   1 out of   1 | elapsed:    0.4s remaining:    0.0s\n"
          ],
          "name": "stderr"
        },
        {
          "output_type": "stream",
          "text": [
            "[CV] ................... C=1, gamma=0.0001, score=0.846, total=   0.4s\n",
            "[CV] C=1, gamma=0.0001 ...............................................\n"
          ],
          "name": "stdout"
        },
        {
          "output_type": "stream",
          "text": [
            "[Parallel(n_jobs=1)]: Done   2 out of   2 | elapsed:    0.9s remaining:    0.0s\n"
          ],
          "name": "stderr"
        },
        {
          "output_type": "stream",
          "text": [
            "[CV] ................... C=1, gamma=0.0001, score=0.839, total=   0.4s\n",
            "[CV] C=1, gamma=0.0001 ...............................................\n",
            "[CV] ................... C=1, gamma=0.0001, score=0.841, total=   0.4s\n",
            "[CV] C=1, gamma=0.0001 ...............................................\n",
            "[CV] ................... C=1, gamma=0.0001, score=0.825, total=   0.4s\n",
            "[CV] C=1, gamma=0.0005 ...............................................\n",
            "[CV] ................... C=1, gamma=0.0005, score=0.856, total=   0.4s\n",
            "[CV] C=1, gamma=0.0005 ...............................................\n",
            "[CV] ................... C=1, gamma=0.0005, score=0.846, total=   0.4s\n",
            "[CV] C=1, gamma=0.0005 ...............................................\n",
            "[CV] ................... C=1, gamma=0.0005, score=0.839, total=   0.4s\n",
            "[CV] C=1, gamma=0.0005 ...............................................\n",
            "[CV] ................... C=1, gamma=0.0005, score=0.841, total=   0.4s\n",
            "[CV] C=1, gamma=0.0005 ...............................................\n",
            "[CV] ................... C=1, gamma=0.0005, score=0.825, total=   0.4s\n",
            "[CV] C=1, gamma=0.001 ................................................\n",
            "[CV] .................... C=1, gamma=0.001, score=0.856, total=   0.4s\n",
            "[CV] C=1, gamma=0.001 ................................................\n",
            "[CV] .................... C=1, gamma=0.001, score=0.846, total=   0.4s\n",
            "[CV] C=1, gamma=0.001 ................................................\n",
            "[CV] .................... C=1, gamma=0.001, score=0.839, total=   0.4s\n",
            "[CV] C=1, gamma=0.001 ................................................\n",
            "[CV] .................... C=1, gamma=0.001, score=0.841, total=   0.4s\n",
            "[CV] C=1, gamma=0.001 ................................................\n",
            "[CV] .................... C=1, gamma=0.001, score=0.825, total=   0.4s\n",
            "[CV] C=5, gamma=0.0001 ...............................................\n",
            "[CV] ................... C=5, gamma=0.0001, score=0.882, total=   0.5s\n",
            "[CV] C=5, gamma=0.0001 ...............................................\n",
            "[CV] ................... C=5, gamma=0.0001, score=0.868, total=   0.5s\n",
            "[CV] C=5, gamma=0.0001 ...............................................\n",
            "[CV] ................... C=5, gamma=0.0001, score=0.852, total=   0.5s\n",
            "[CV] C=5, gamma=0.0001 ...............................................\n",
            "[CV] ................... C=5, gamma=0.0001, score=0.869, total=   0.4s\n",
            "[CV] C=5, gamma=0.0001 ...............................................\n",
            "[CV] ................... C=5, gamma=0.0001, score=0.852, total=   0.4s\n",
            "[CV] C=5, gamma=0.0005 ...............................................\n",
            "[CV] ................... C=5, gamma=0.0005, score=0.882, total=   0.5s\n",
            "[CV] C=5, gamma=0.0005 ...............................................\n",
            "[CV] ................... C=5, gamma=0.0005, score=0.868, total=   0.5s\n",
            "[CV] C=5, gamma=0.0005 ...............................................\n",
            "[CV] ................... C=5, gamma=0.0005, score=0.852, total=   0.5s\n",
            "[CV] C=5, gamma=0.0005 ...............................................\n",
            "[CV] ................... C=5, gamma=0.0005, score=0.869, total=   0.4s\n",
            "[CV] C=5, gamma=0.0005 ...............................................\n",
            "[CV] ................... C=5, gamma=0.0005, score=0.852, total=   0.4s\n",
            "[CV] C=5, gamma=0.001 ................................................\n",
            "[CV] .................... C=5, gamma=0.001, score=0.882, total=   0.5s\n",
            "[CV] C=5, gamma=0.001 ................................................\n",
            "[CV] .................... C=5, gamma=0.001, score=0.868, total=   0.5s\n",
            "[CV] C=5, gamma=0.001 ................................................\n",
            "[CV] .................... C=5, gamma=0.001, score=0.852, total=   0.5s\n",
            "[CV] C=5, gamma=0.001 ................................................\n",
            "[CV] .................... C=5, gamma=0.001, score=0.869, total=   0.4s\n",
            "[CV] C=5, gamma=0.001 ................................................\n",
            "[CV] .................... C=5, gamma=0.001, score=0.852, total=   0.4s\n",
            "[CV] C=10, gamma=0.0001 ..............................................\n",
            "[CV] .................. C=10, gamma=0.0001, score=0.881, total=   0.5s\n",
            "[CV] C=10, gamma=0.0001 ..............................................\n",
            "[CV] .................. C=10, gamma=0.0001, score=0.870, total=   0.5s\n",
            "[CV] C=10, gamma=0.0001 ..............................................\n",
            "[CV] .................. C=10, gamma=0.0001, score=0.856, total=   0.5s\n",
            "[CV] C=10, gamma=0.0001 ..............................................\n",
            "[CV] .................. C=10, gamma=0.0001, score=0.873, total=   0.4s\n",
            "[CV] C=10, gamma=0.0001 ..............................................\n",
            "[CV] .................. C=10, gamma=0.0001, score=0.860, total=   0.4s\n",
            "[CV] C=10, gamma=0.0005 ..............................................\n",
            "[CV] .................. C=10, gamma=0.0005, score=0.881, total=   0.5s\n",
            "[CV] C=10, gamma=0.0005 ..............................................\n",
            "[CV] .................. C=10, gamma=0.0005, score=0.870, total=   0.5s\n",
            "[CV] C=10, gamma=0.0005 ..............................................\n",
            "[CV] .................. C=10, gamma=0.0005, score=0.856, total=   0.5s\n",
            "[CV] C=10, gamma=0.0005 ..............................................\n",
            "[CV] .................. C=10, gamma=0.0005, score=0.873, total=   0.4s\n",
            "[CV] C=10, gamma=0.0005 ..............................................\n",
            "[CV] .................. C=10, gamma=0.0005, score=0.860, total=   0.4s\n",
            "[CV] C=10, gamma=0.001 ...............................................\n",
            "[CV] ................... C=10, gamma=0.001, score=0.881, total=   0.5s\n",
            "[CV] C=10, gamma=0.001 ...............................................\n",
            "[CV] ................... C=10, gamma=0.001, score=0.870, total=   0.5s\n",
            "[CV] C=10, gamma=0.001 ...............................................\n",
            "[CV] ................... C=10, gamma=0.001, score=0.856, total=   0.5s\n",
            "[CV] C=10, gamma=0.001 ...............................................\n",
            "[CV] ................... C=10, gamma=0.001, score=0.873, total=   0.4s\n",
            "[CV] C=10, gamma=0.001 ...............................................\n",
            "[CV] ................... C=10, gamma=0.001, score=0.860, total=   0.4s\n"
          ],
          "name": "stdout"
        },
        {
          "output_type": "stream",
          "text": [
            "[Parallel(n_jobs=1)]: Done  45 out of  45 | elapsed:   20.0s finished\n"
          ],
          "name": "stderr"
        },
        {
          "output_type": "execute_result",
          "data": {
            "text/plain": [
              "GridSearchCV(cv=None, error_score=nan,\n",
              "             estimator=SVC(C=1.0, break_ties=False, cache_size=200,\n",
              "                           class_weight=None, coef0=0.0,\n",
              "                           decision_function_shape='ovr', degree=3,\n",
              "                           gamma='scale', kernel='linear', max_iter=-1,\n",
              "                           probability=False, random_state=None, shrinking=True,\n",
              "                           tol=0.001, verbose=False),\n",
              "             iid='deprecated', n_jobs=None,\n",
              "             param_grid={'C': [1, 5, 10], 'gamma': [0.0001, 0.0005, 0.001]},\n",
              "             pre_dispatch='2*n_jobs', refit=True, return_train_score=False,\n",
              "             scoring=None, verbose=3)"
            ]
          },
          "metadata": {
            "tags": []
          },
          "execution_count": 24
        }
      ]
    },
    {
      "cell_type": "code",
      "metadata": {
        "colab": {
          "base_uri": "https://localhost:8080/"
        },
        "id": "sm4TjgqJZm45",
        "outputId": "f06444a0-f99b-481f-d481-9eb2e621068d"
      },
      "source": [
        "print(grid2.best_params_)\r\n",
        "print(grid2.best_score_)"
      ],
      "execution_count": 25,
      "outputs": [
        {
          "output_type": "stream",
          "text": [
            "{'C': 10, 'gamma': 0.0001}\n",
            "0.8680138845428944\n"
          ],
          "name": "stdout"
        }
      ]
    },
    {
      "cell_type": "code",
      "metadata": {
        "colab": {
          "base_uri": "https://localhost:8080/"
        },
        "id": "zavw-ruvZ-16",
        "outputId": "5883a3ea-fb11-424a-cf1a-067b34339495"
      },
      "source": [
        "best_model=SVC(kernel='linear', C=10, gamma=0.0001)\r\n",
        "best_model"
      ],
      "execution_count": 26,
      "outputs": [
        {
          "output_type": "execute_result",
          "data": {
            "text/plain": [
              "SVC(C=10, break_ties=False, cache_size=200, class_weight=None, coef0=0.0,\n",
              "    decision_function_shape='ovr', degree=3, gamma=0.0001, kernel='linear',\n",
              "    max_iter=-1, probability=False, random_state=None, shrinking=True,\n",
              "    tol=0.001, verbose=False)"
            ]
          },
          "metadata": {
            "tags": []
          },
          "execution_count": 26
        }
      ]
    },
    {
      "cell_type": "code",
      "metadata": {
        "colab": {
          "base_uri": "https://localhost:8080/"
        },
        "id": "WRcO2ZlaaHr6",
        "outputId": "b7b29054-94cc-4683-eb98-14752c8b997c"
      },
      "source": [
        "# save your model by updating \"your_name\" with your name\r\n",
        "# and \"your_model\" with your model variable\r\n",
        "# be sure to turn this in to BCS\r\n",
        "# if joblib fails to import, try running the command to install in terminal/git-bash\r\n",
        "import joblib\r\n",
        "filename = 'exoplanet_svm.sav'\r\n",
        "joblib.dump(best_model, filename)"
      ],
      "execution_count": 30,
      "outputs": [
        {
          "output_type": "execute_result",
          "data": {
            "text/plain": [
              "['exoplanet_svm.sav']"
            ]
          },
          "metadata": {
            "tags": []
          },
          "execution_count": 30
        }
      ]
    }
  ]
}